{
 "cells": [
  {
   "cell_type": "markdown",
   "metadata": {},
   "source": [
    "# Machine Learning - Assignment 2\n",
    "\n",
    "## Decision tree induction algorithm for classification tasks"
   ]
  },
  {
   "cell_type": "markdown",
   "metadata": {},
   "source": [
    "The aim of the assignment is to:\n",
    "\n",
    "* Implement a decision tree induction algorithm for classification tasks.\n",
    "* Make sure it works for real valued features and nominal features (categorical features without rank, e.g., red - blue - green).\n",
    "* Test the algorithm on 3 datasets.\n",
    "\n",
    "Follow the instructions and implement what is missing to complete the assignment. Some functions have been started to help you a little bit with the inputs or outputs of the function.\n",
    "\n",
    "**Note:** You might need to go back and forth during your implementation of the code. The structure is set up to make implementation easier, but how you return values from the different functions might vary, and you might find yourself going back and change something to make it easier later on."
   ]
  },
  {
   "cell_type": "markdown",
   "metadata": {},
   "source": [
    "## Assignment preparations"
   ]
  },
  {
   "cell_type": "markdown",
   "metadata": {},
   "source": [
    "We help you out with importing the libraries.\n",
    "\n",
    "**IMPORTANT NOTE:** You may not import any more libraries than the ones already imported!"
   ]
  },
  {
   "cell_type": "code",
   "execution_count": 166,
   "metadata": {},
   "outputs": [],
   "source": [
    "import numpy as np\n",
    "import pandas as pd\n",
    "import matplotlib.pyplot as plt"
   ]
  },
  {
   "cell_type": "markdown",
   "metadata": {},
   "source": [
    "## Decision tree model\n",
    "\n",
    "The main objective is to implement the decision tree model. The implemented decision tree needs to be recursive model, that is, it should be implemented general enough to call itself in order to grow. \"Growing\" a tree refers to the same thing as \"training\" a model.\n",
    "\n",
    "As said in the introduction, the structure is set up to help with implementation, but the nature of this model makes it a bit harder to implement function-by-function. You will most likely go back and forth between these first tasks."
   ]
  },
  {
   "cell_type": "markdown",
   "metadata": {},
   "source": [
    "### 1) Grow Tree\n",
    "\n",
    "We will start with the main function of the decision tree, the \"growing\" function. \n",
    "\n",
    "This function should be called when creating the model, but also from inside itself. It is responible for creating all the nodes and leafs in the tree."
   ]
  },
  {
   "cell_type": "code",
   "execution_count": 167,
   "metadata": {},
   "outputs": [],
   "source": [
    "def grow_tree(data, depth=0, max_depth=10):\n",
    "    # TODO: Implement the rest of this function.\n",
    "    # NOTE: You will need to come back to this function to make use of later functions.\n",
    "    class_labels = data[:,-1]\n",
    "    features = data[:,:-1]\n",
    "    # Check stopping criteria and create a leaf if any is true\n",
    "    # if all data are of the same class it is homogeneous\n",
    "    if (\n",
    "        homogeneous(class_labels)\n",
    "        or is_max_depth(depth, max_depth)\n",
    "        or min_samples_split(features)\n",
    "        or unbalanced(class_labels)\n",
    "    ):\n",
    "        return {\"leaf_value\": majority_label(class_labels)}  # Don't grow the tree\n",
    "\n",
    "    best_feature_idx, best_threshold = best_split(\n",
    "        features, class_labels\n",
    "    )  # split on feature that creates most homogenous data subsets.\n",
    "    if best_feature_idx is None:\n",
    "        # Could not find a better split\n",
    "        return {\"leaf_value\": majority_label(class_labels)}  # Don't grow the tree\n",
    "\n",
    "    left_data, right_data = split_data(data, features, best_feature_idx, best_threshold)\n",
    "\n",
    "    if len(left_data) != 0:\n",
    "        left_subtree = grow_tree(left_data, depth+1, max_depth)\n",
    "    else:\n",
    "        return {\"leaf_value\": majority_label(class_labels)}  # Don't grow the tree\n",
    "\n",
    "    if len(right_data) != 0:\n",
    "        right_subtree = grow_tree(right_data, depth+1, max_depth)\n",
    "    else:\n",
    "        return {\"leaf_value\": majority_label(class_labels)}  # Don't grow the tree\n",
    "\n",
    "    # Return a node\n",
    "    return {\n",
    "        \"feature_idx\": best_feature_idx,\n",
    "        \"threshold\": best_threshold,\n",
    "        \"left\": left_subtree,\n",
    "        \"right\": right_subtree,\n",
    "    }"
   ]
  },
  {
   "cell_type": "code",
   "execution_count": 168,
   "metadata": {},
   "outputs": [],
   "source": [
    "def majority_label(class_labels):\n",
    "    unique_classes, counts = np.unique(class_labels, return_counts=True)\n",
    "    return int(unique_classes[np.argmax(counts)])"
   ]
  },
  {
   "cell_type": "markdown",
   "metadata": {},
   "source": [
    "### 2) Growth stopping conditions (or stopping criterias)\n",
    "\n",
    "The \"grow_tree\" function needs some way of stop growing, otherwise it will grow indefinitely. We will adress this issue here.\n",
    "\n",
    "The trees stopping criterias needs to handle the following:\n",
    "\n",
    "1) When a node has only datapoints of a single class.\n",
    "\n",
    "2) Prevent the tree from growing to large, i.e., a max depth.\n",
    "\n",
    "3) Prevent the tree nodes from becoming to small.\n",
    "\n",
    "4) Prevent the tree from growing when the node is large (has a lot of datapoints) but it is very unbalanced. This is an extention to case 1.\n",
    "\n",
    "Can you think of some other stopping criterias that is good to have? "
   ]
  },
  {
   "cell_type": "markdown",
   "metadata": {},
   "source": [
    "- Minimum information gain threshold (stop if the split doesn't significantly reduce impurity).  \n",
    "- Time or memory constraints (stop if training exceeds a limit).  \n",
    "- Early stopping based on validation performance (prevent overfitting once performance plateaus).  \n",
    "- Leaf purity threshold (stop if further splits yield minimal improvement)."
   ]
  },
  {
   "cell_type": "code",
   "execution_count": 169,
   "metadata": {},
   "outputs": [],
   "source": [
    "# TODO: Change the name of the functions and implement them as you see fit.\n",
    "# 1. When a node has only datapoints of a single class.\n",
    "def homogeneous(class_labels):\n",
    "    # NOTE: it is up to me to decide if all labels has to be of the same class or for example 90% to prevent overfitting and too deep and specialized trees.\n",
    "\n",
    "    # Check if all class labels are the same\n",
    "    return len(np.unique(class_labels)) == 1\n",
    "\n",
    "\n",
    "# 2. Prevent the tree from growing to large, i.e., a max depth.\n",
    "def is_max_depth(depth, max_depth):\n",
    "    return depth >= max_depth\n",
    "\n",
    "# 3. Prevent the tree nodes from becoming to small.\n",
    "def min_samples_split(features):\n",
    "    return len(features) < 2\n",
    "\n",
    "\n",
    "# 4. Prevent the tree from growing when the node is large (has a lot of datapoints) but it is very unbalanced. This is an extension to case 1.\n",
    "def unbalanced(class_labels, size_threshold=100, ratio_threshold=0.9):\n",
    "    label_counts = np.bincount(class_labels.astype(int))\n",
    "    return len(class_labels) > size_threshold and (label_counts.max() / len(class_labels)) >= ratio_threshold\n",
    "\n",
    "\n",
    "# Add more stopping criteria if needed. Don't forget to use them when growing the tree!"
   ]
  },
  {
   "cell_type": "markdown",
   "metadata": {},
   "source": [
    "### 3) Best feature for splitting nodes\n",
    "\n",
    "When we are growing the tree, we need to decide how we are going to split a node into two new nodes. This is achieved by looking at the features of the data in the node and calculate the best feature to split on.\n",
    "\n",
    "Here you have a choice:\n",
    "\n",
    "* Split using **Information Entropy**\n",
    "* Split using **Gini Impurity**\n",
    "\n",
    "Finish the function below using Information Entropy or Gini Impurity.\n",
    "\n",
    "**Note:** Your code should be able to handle both real and categorical features!"
   ]
  },
  {
   "cell_type": "code",
   "execution_count": 170,
   "metadata": {},
   "outputs": [],
   "source": [
    "def information_entropy(subsets):\n",
    "    pass"
   ]
  },
  {
   "cell_type": "code",
   "execution_count": 171,
   "metadata": {},
   "outputs": [],
   "source": [
    "def gini_impurity(class_labels):\n",
    "    size_labels = len(class_labels)\n",
    "    if size_labels == 0:\n",
    "        return 0\n",
    "\n",
    "    _, counts = np.unique(class_labels, return_counts=True)\n",
    "    probabilities = counts / size_labels\n",
    "    return 1 - np.sum(probabilities**2)"
   ]
  },
  {
   "cell_type": "markdown",
   "metadata": {},
   "source": [
    "### 4) Split data\n",
    "\n",
    "When growing the tree, we need to split the data multiple times, and what we decide to split varies a lot. It is similar to splitting data into train and test sets (remember from assignment 1), but we split the data based on the best feature for growing a good tree.\n",
    "\n",
    "**IMPORTANT NOTE:** To calculate binary splits for real-valued features, the following rule must be applied: an instance with a feature value lower than the mean feature value follows the left edge from the split node while all other instances follow the right edge from the split node."
   ]
  },
  {
   "cell_type": "code",
   "execution_count": 172,
   "metadata": {},
   "outputs": [],
   "source": [
    "def best_split(features, class_labels):\n",
    "    best_weighted_gain = 0\n",
    "    best_feature_idx = best_threshold = None\n",
    "    n_features = features.shape[1]\n",
    "    current_impurity = gini_impurity(class_labels)\n",
    "    # split data into subsets with values from features\n",
    "    for feature_idx in range(n_features):\n",
    "        feature_col = features[:, feature_idx]\n",
    "        if isinstance(features[0][feature_idx], (int, float, np.float64)):\n",
    "            threshold = np.mean(feature_col.astype(np.float64))\n",
    "            left_mask = feature_col.astype(np.float64) < threshold\n",
    "            right_mask = ~left_mask\n",
    "\n",
    "            left_labels = class_labels[left_mask]\n",
    "            right_labels = class_labels[right_mask]\n",
    "\n",
    "        else:\n",
    "            pass\n",
    "        gini_left = gini_impurity(left_labels)\n",
    "        gini_right = gini_impurity(right_labels)\n",
    "\n",
    "        weighted_left = len(left_labels) / len(class_labels)\n",
    "        weighted_right = len(right_labels) / len(class_labels)\n",
    "        weighted_gain = current_impurity - (weighted_left * gini_left + weighted_right * gini_right)\n",
    "\n",
    "        if weighted_gain > best_weighted_gain:\n",
    "            best_weighted_gain = weighted_gain\n",
    "            best_feature_idx = feature_idx\n",
    "            best_threshold = threshold\n",
    "\n",
    "    return best_feature_idx, best_threshold "
   ]
  },
  {
   "cell_type": "code",
   "execution_count": 173,
   "metadata": {},
   "outputs": [],
   "source": [
    "def split_data(data, features, feature_idx, threshold):\n",
    "    # TODO: Implement the rest of this function.\n",
    "    feature_col = features[:, feature_idx]\n",
    "\n",
    "    if isinstance(features[0][feature_idx], (int, float, np.float64)):\n",
    "        left_mask = feature_col.astype(np.float64) < threshold\n",
    "        right_mask = ~left_mask\n",
    "    else:\n",
    "        # categorical\n",
    "        pass\n",
    "    left_data = data[left_mask]\n",
    "    right_data = data[right_mask]\n",
    "    return left_data, right_data"
   ]
  },
  {
   "cell_type": "markdown",
   "metadata": {},
   "source": [
    "### 5) Predict with tree model\n",
    "\n",
    "Finally, when we have grown our tree, we would like to use it for prediction. When using the tree for prediction, we traverse the tree for each datapoint untill we land in a leaf node."
   ]
  },
  {
   "cell_type": "code",
   "execution_count": 174,
   "metadata": {},
   "outputs": [],
   "source": [
    "def predict_with_tree(features, test, tree):\n",
    "    # TODO: Implement the rest of this function.\n",
    "    # NOTE: This function should also be recursive.\n",
    "    if 'leaf_value' in tree:\n",
    "        return tree['leaf_value']\n",
    "\n",
    "    feature_idx = tree['feature_idx']\n",
    "    threshold = tree['threshold']\n",
    "\n",
    "    if isinstance(features[0][feature_idx], (int, float, np.float64)):\n",
    "        if test[feature_idx] < threshold:\n",
    "            return predict_with_tree(features, test, tree['left'])\n",
    "        else:\n",
    "            return predict_with_tree(features, test, tree[\"right\"])\n",
    "    else:\n",
    "        # categorical\n",
    "        pass"
   ]
  },
  {
   "cell_type": "markdown",
   "metadata": {},
   "source": [
    "## Test decision tree model, compare with scikit learn, and plot dataset results\n",
    "\n",
    "In the last part of the lab, you are going to test your tree code and compare it to scikit learn. The goal is not to be better than an established library, but to give you an indication about if you are on the right track.\n",
    "\n",
    "You will need to plot the results from your model and the scikit learn model using matplotlib. We suggest a simple but informative bar-charts.\n",
    "\n",
    "To make the comparison fair, you should train and test both your decision tree algorithm and the scikit learn at least 5 times, and shuffle the data each time before splitting the data into a train and test set.\n",
    "\n",
    "The datasets are:\n",
    "\n",
    "* Wine - (https://archive.ics.uci.edu/dataset/109/wine)\n",
    "* Heart disease - (https://archive.ics.uci.edu/dataset/45/heart+disease)\n",
    "* Car - (https://archive.ics.uci.edu/dataset/19/car+evaluation)\n",
    "\n",
    "**IMPORTANT NOTE 1:** Take note of the feature types in the datasets, some features are numerical in value but are in fact categorical features. Be sure to handle these features correctly!\n",
    "\n",
    "**IMPORTANT NOTE 2:** In this assignment it helps to add an additional header with information about the features and if they are nominal (n) or real (r) features."
   ]
  },
  {
   "cell_type": "code",
   "execution_count": 175,
   "metadata": {},
   "outputs": [],
   "source": [
    "import matplotlib.pyplot as plt\n",
    "\n",
    "from sklearn.model_selection import train_test_split\n",
    "from sklearn.metrics import accuracy_score\n",
    "from sklearn.tree import DecisionTreeClassifier"
   ]
  },
  {
   "cell_type": "markdown",
   "metadata": {},
   "source": [
    "You may use the \"**accuracy_score**\" function from scikit learn (imported above) to compare the performance of your own and scikit learns models.\n",
    "\n",
    "See below for an example use."
   ]
  },
  {
   "cell_type": "code",
   "execution_count": 176,
   "metadata": {},
   "outputs": [
    {
     "data": {
      "text/plain": [
       "0.6"
      ]
     },
     "execution_count": 176,
     "metadata": {},
     "output_type": "execute_result"
    }
   ],
   "source": [
    "y_true = [1,1,1,1,1] # Pretend labels\n",
    "y_pred = [1,1,2,2,1] # Pretend prediction\n",
    "\n",
    "accuracy_score(y_true, y_pred)"
   ]
  },
  {
   "cell_type": "markdown",
   "metadata": {},
   "source": [
    "### 6) Dataset 1: Wine"
   ]
  },
  {
   "cell_type": "code",
   "execution_count": 197,
   "metadata": {},
   "outputs": [
    {
     "name": "stdout",
     "output_type": "stream",
     "text": [
      "My Tree Wine Accuracy: [0.9333333333333333, 0.9777777777777777, 0.9555555555555556, 0.8666666666666667, 0.8888888888888888]\n",
      "Sklearn Tree Wine Accuracy: [0.9333333333333333, 0.9555555555555556, 0.8888888888888888, 0.8666666666666667, 0.8444444444444444]\n"
     ]
    },
    {
     "data": {
      "image/png": "[encoded data removed]",
      "text/plain": [
       "<Figure size 640x480 with 1 Axes>"
      ]
     },
     "metadata": {},
     "output_type": "display_data"
    }
   ],
   "source": [
    "data_wine = pd.read_csv(\"wine.csv\", skiprows=[1]).to_numpy()\n",
    "\n",
    "accuracies_my_tree = []\n",
    "accuracies_sklearn_tree = []\n",
    "\n",
    "# TODO: Set up the data and split it into train and test-sets.\n",
    "data_wine_features = data_wine[:, :-1]\n",
    "data_wine_labels = data_wine[:, -1]\n",
    "\n",
    "for _ in range(5):\n",
    "    train_features, test_features, train_labels, test_labels = train_test_split(data_wine_features, data_wine_labels, test_size=0.25, train_size=0.75, shuffle=True)\n",
    "\n",
    "    data = np.column_stack((train_features, train_labels))\n",
    "\n",
    "    # TODO: Train and test your implemented tree model.\n",
    "    # NOTE: Use the same train/test split for your tree model and the scikit learn model\n",
    "    predictions = []\n",
    "\n",
    "    my_tree = grow_tree(data, 0, 10)\n",
    "\n",
    "    for feature_row in test_features:\n",
    "        prediction = predict_with_tree(train_features, feature_row, my_tree)\n",
    "        predictions.append(prediction)\n",
    "\n",
    "    accuracy_my_tree = accuracy_score(test_labels, predictions)\n",
    "    accuracies_my_tree.append(accuracy_my_tree)\n",
    "    # TODO: Train and test scikit learns tree model.\n",
    "    # NOTE: Use the same train/test split for your tree model and the scikit learn model\n",
    "    decision_tree_classifier = DecisionTreeClassifier(max_depth=10, min_samples_split=2)\n",
    "    decision_tree_classifier.fit(train_features, train_labels)\n",
    "    sklearn_predictions = decision_tree_classifier.predict(test_features)\n",
    "    accuracy_sklearn = accuracy_score(test_labels, sklearn_predictions)\n",
    "    accuracies_sklearn_tree.append(accuracy_sklearn)\n",
    "\n",
    "print(\"My Tree Wine Accuracy:\", accuracies_my_tree)\n",
    "print(\"Sklearn Tree Wine Accuracy:\", accuracies_sklearn_tree)\n",
    "\n",
    "# TODO: Do the above at least 5 times\n",
    "# NOTE: Use loops here!\n",
    "\n",
    "# TODO: Plot the results with matplotlib (plt)\n",
    "# NOTE: One plot with all results is enough\n",
    "plt.figure()\n",
    "plt.bar(\n",
    "    [\"MyTreeAvg\", \"SklearnAvg\"],\n",
    "    [np.mean(accuracies_my_tree), np.mean(accuracies_sklearn_tree)], color=\"green\"\n",
    ")\n",
    "plt.title(\"Wine dataset accuracy comparison\")\n",
    "plt.ylabel(\"Mean Accuracy\")\n",
    "plt.yticks(np.arange(0, 1.1, 0.05))\n",
    "plt.ylim([0,1])\n",
    "plt.show()"
   ]
  },
  {
   "cell_type": "markdown",
   "metadata": {},
   "source": [
    "### 7) Dataset 2: Heart Disease"
   ]
  },
  {
   "cell_type": "code",
   "execution_count": 178,
   "metadata": {},
   "outputs": [],
   "source": [
    "data_heart = pd.read_csv(\"heart.csv\").to_numpy()\n",
    "\n",
    "# TODO: Set up the data and split it into train and test-sets.\n",
    "\n",
    "# TODO: Train and test your implemented tree model.\n",
    "# NOTE: Use the same train/test split for your tree model and the scikit learn model\n",
    "\n",
    "# TODO: Train and test scikit learns tree model.\n",
    "# NOTE: Use the same train/test split for your tree model and the scikit learn model\n",
    "\n",
    "# TODO: Do the above at least 5 times\n",
    "# NOTE: Use loops here!\n",
    "\n",
    "# TODO: Plot the results with matplotlib (plt)\n",
    "# NOTE: One plot with all results is enough"
   ]
  },
  {
   "cell_type": "markdown",
   "metadata": {},
   "source": [
    "### 8) Dataset 3: Car"
   ]
  },
  {
   "cell_type": "code",
   "execution_count": 179,
   "metadata": {},
   "outputs": [],
   "source": [
    "data_car = pd.read_csv(\"car.csv\").to_numpy()\n",
    "\n",
    "# TODO: Set up the data and split it into train and test-sets.\n",
    "\n",
    "# TODO: Train and test your implemented tree model.\n",
    "# NOTE: Use the same train/test split for your tree model and the scikit learn model\n",
    "\n",
    "# TODO: Train and test scikit learns tree model.\n",
    "# NOTE: Use the same train/test split for your tree model and the scikit learn model\n",
    "\n",
    "# TODO: Do the above at least 5 times\n",
    "# NOTE: Use loops here!\n",
    "\n",
    "# TODO: Plot the results with matplotlib (plt)\n",
    "# NOTE: One plot with all results is enough"
   ]
  },
  {
   "cell_type": "markdown",
   "metadata": {},
   "source": [
    "### 9) Training with normalized data on the wine-dataset\n",
    "\n",
    "So far, we have trained our decision trees with \"raw\" data, i.e., we haven't done much preprocessing on the data.\n",
    "\n",
    "Here we will do minor preprocessing on the data with the help of the scikit-learn library: https://scikit-learn.org/stable/modules/preprocessing.html"
   ]
  },
  {
   "cell_type": "code",
   "execution_count": 180,
   "metadata": {},
   "outputs": [],
   "source": [
    "from sklearn import preprocessing\n",
    "\n",
    "# TODO: Use the wine dataset from above and scale its features and labels between 0 and 1\n",
    "\n",
    "# TODO: Run the code from the dataset and compare the preprocessed vs non-preprocessed data.\n",
    "# NOTE: You can copy most of the workflow from the dataset code above to save you some time.\n",
    "# NOTE: Use the same train/test split for your tree model for both the preprocessed vs non-preprocessed data.\n",
    "\n",
    "# TODO: Do the above at least 5 times\n",
    "# NOTE: Use loops here!\n",
    "\n",
    "# TODO: Plot the results with matplotlib (plt)\n",
    "# NOTE: One plot with all results is enough"
   ]
  },
  {
   "cell_type": "markdown",
   "metadata": {},
   "source": [
    "# Questions for examination:\n",
    "\n",
    "In addition to completing the assignment with all its tasks, you should also prepare to answer the following questions:\n",
    "\n",
    "1) Why is growing the tree indefinitely such a bad idea? The performance would increase would it not?\n",
    "\n",
    "2) Beside preventing the tree from growing to large, what is the purpose of 'stopping criterias'?\n",
    "\n",
    "3) What is the difference between **Information Entropy** and **Gini Impurity**?\n",
    "\n",
    "4) What are some pros about using decision trees?\n",
    "\n",
    "5) Did preprocessing the data help with performance when using decision trees?"
   ]
  },
  {
   "cell_type": "markdown",
   "metadata": {},
   "source": [
    "# Finished!\n",
    "\n",
    "Was part of the setup incorrect? Did you spot any inconsistencies in the assignment? Could something improve?\n",
    "\n",
    "If so, please write them and send via email and send it to:\n",
    "\n",
    "* marcus.gullstrand@ju.se\n",
    "\n",
    "Thank you!"
   ]
  }
 ],
 "metadata": {
  "kernelspec": {
   "display_name": "Python 3",
   "language": "python",
   "name": "python3"
  },
  "language_info": {
   "codemirror_mode": {
    "name": "ipython",
    "version": 3
   },
   "file_extension": ".py",
   "mimetype": "text/x-python",
   "name": "python",
   "nbconvert_exporter": "python",
   "pygments_lexer": "ipython3",
   "version": "3.12.7"
  }
 },
 "nbformat": 4,
 "nbformat_minor": 2
}
