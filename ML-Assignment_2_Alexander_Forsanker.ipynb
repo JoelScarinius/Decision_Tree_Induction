{
 "cells": [
  {
   "cell_type": "markdown",
   "metadata": {},
   "source": [
    "# Machine Learning - Assignment 2\n",
    "\n",
    "## Decision tree induction algorithm for classification tasks"
   ]
  },
  {
   "cell_type": "markdown",
   "metadata": {},
   "source": [
    "The aim of the assignment is to:\n",
    "\n",
    "* Implement a decision tree induction algorithm for classification tasks.\n",
    "* Make sure it works for real valued features and nominal features (categorical features without rank, e.g., red - blue - green).\n",
    "* Test the algorithm on 3 datasets.\n",
    "\n",
    "Follow the instructions and implement what is missing to complete the assignment. Some functions have been started to help you a little bit with the inputs or outputs of the function.\n",
    "\n",
    "**Note:** You might need to go back and forth during your implementation of the code. The structure is set up to make implementation easier, but how you return values from the different functions might vary, and you might find yourself going back and change something to make it easier later on."
   ]
  },
  {
   "cell_type": "markdown",
   "metadata": {},
   "source": [
    "## Assignment preparations"
   ]
  },
  {
   "cell_type": "markdown",
   "metadata": {},
   "source": [
    "We help you out with importing the libraries.\n",
    "\n",
    "**IMPORTANT NOTE:** You may not import any more libraries than the ones already imported!"
   ]
  },
  {
   "cell_type": "code",
   "execution_count": 181,
   "metadata": {},
   "outputs": [],
   "source": [
    "import numpy as np\n",
    "import pandas as pd\n",
    "import matplotlib.pyplot as plt"
   ]
  },
  {
   "cell_type": "markdown",
   "metadata": {},
   "source": [
    "## Decision tree model\n",
    "\n",
    "The main objective is to implement the decision tree model. The implemented decision tree needs to be recursive model, that is, it should be implemented general enough to call itself in order to grow. \"Growing\" a tree refers to the same thing as \"training\" a model.\n",
    "\n",
    "As said in the introduction, the structure is set up to help with implementation, but the nature of this model makes it a bit harder to implement function-by-function. You will most likely go back and forth between these first tasks."
   ]
  },
  {
   "cell_type": "markdown",
   "metadata": {},
   "source": [
    "### 1) Grow Tree\n",
    "\n",
    "We will start with the main function of the decision tree, the \"growing\" function. \n",
    "\n",
    "This function should be called when creating the model, but also from inside itself. It is responible for creating all the nodes and leafs in the tree."
   ]
  },
  {
   "cell_type": "code",
   "execution_count": 182,
   "metadata": {},
   "outputs": [],
   "source": [
    "import numpy as np\n",
    "import pandas as pd\n",
    "import matplotlib.pyplot as plt\n",
    "\n",
    "class Node:\n",
    "    def __init__(self, feature=None, threshold=None, left=None, right=None, value=None):\n",
    "        self.feature = feature\n",
    "        self.threshold = threshold\n",
    "        self.left = left\n",
    "        self.right = right\n",
    "        self.value = value\n",
    "\n",
    "def grow_tree(X, y, number_of_features, max_depth, min_samples_for_split, depth=0):\n",
    "    \"\"\"\n",
    "    X: This is the input data (features)\n",
    "    y: This is the target labels (classes)\n",
    "    number_of_features: is the number of features to consider when looking for the best split. This is useful\n",
    "                        in for example ensamble models or random forest. Using less features reduce overfitting, and can help speed up training.\n",
    "    max_depth: is the maximum depth of the tree\n",
    "    min_samples_for_split: is the minimum number of samples required to split an internal node.\n",
    "    depth: is the current depth of the tree, needed for the recursion.\n",
    "    \"\"\"\n",
    "    nbr_samples = len(X)\n",
    "    nbr_features = len(X[0])\n",
    "    nbr_of_unique_labels = np.unique(y)\n",
    "\n",
    "    if (depth >= max_depth or len(nbr_of_unique_labels) == 1 or nbr_samples <= min_samples_for_split or homogeneous(y)):\n",
    "        leaf_value = most_common_label(y)\n",
    "        return Node(value=leaf_value)\n",
    "    \n",
    "    number_of_features = X.shape[1] if not number_of_features else min(X.shape[1], number_of_features)\n",
    "    feat_idx = np.random.choice(nbr_features, number_of_features, replace=False)\n",
    "    best_feature, best_threshold = bestSplit(X, y, feat_idx)\n",
    "\n",
    "    left_idxs = []\n",
    "    right_idxs = []\n",
    "    for i, x in enumerate(X[:, best_feature]):\n",
    "        if x <= best_threshold:\n",
    "            left_idxs.append(i)\n",
    "        elif x > best_threshold:\n",
    "            right_idxs.append(i)\n",
    "\n",
    "    left_idxs = np.array(left_idxs)\n",
    "    right_idxs = np.array(right_idxs)\n",
    "    \n",
    "    left = grow_tree(X[left_idxs, :], y[left_idxs], number_of_features, max_depth, min_samples_for_split, depth + 1)\n",
    "    right = grow_tree(X[right_idxs, :], y[right_idxs], number_of_features, max_depth, min_samples_for_split, depth + 1)\n",
    "    return Node(best_feature, best_threshold, left, right)\n",
    "\n",
    "# Ska flytta till stop condition sektionen senare\n",
    "def homogeneous(y, threshold=0.9):\n",
    "    most_common = most_common_label(y)\n",
    "    count = np.sum(y == most_common)\n",
    "    return count / len(y) >= threshold\n",
    "\n",
    "# Ska flytta till split sektionen senare\n",
    "def bestSplit(X, y, feat_idxs):\n",
    "    best_gain = -1\n",
    "    split_idx, split_threshold = None, None\n",
    "\n",
    "    for feat_idx in feat_idxs:\n",
    "        X_column = X[:, feat_idx]\n",
    "        thresholds = np.unique(X_column)\n",
    "\n",
    "        for thr in thresholds:\n",
    "            gain = information_gain(y, X_column, thr)\n",
    "\n",
    "            if gain > best_gain:\n",
    "                best_gain = gain\n",
    "                split_idx = feat_idx\n",
    "                split_threshold = thr\n",
    "\n",
    "    return split_idx, split_threshold\n",
    "\n",
    "def information_gain(y, X_column, thr):\n",
    "    parent_entropy = entropy(y)\n",
    "\n",
    "    left_side = []\n",
    "    right_side = []\n",
    "    for i, x in enumerate(X_column):\n",
    "        if x <= thr:\n",
    "            left_side.append(i)\n",
    "        elif x > thr:\n",
    "            right_side.append(i)\n",
    "\n",
    "    left_idx = np.array(left_side)\n",
    "    right_idx = np.array(right_side)\n",
    "\n",
    "    left_side_idxs_len, right_side_idxs_len = len(left_idx), len(right_idx)\n",
    "\n",
    "    if left_side_idxs_len == 0 or right_side_idxs_len == 0:\n",
    "        return 0\n",
    "    \n",
    "    n = len(y)\n",
    "    left_side_entropy = entropy(y[left_idx])\n",
    "    right_side_entropy = entropy(y[right_idx])\n",
    "    \n",
    "    child_entropy = ((left_side_idxs_len / n) * left_side_entropy) + ((right_side_idxs_len / n) * right_side_entropy)\n",
    "    \n",
    "    information_gain = parent_entropy - child_entropy\n",
    "    return information_gain \n",
    "\n",
    "def gini(y):\n",
    "    hist = np.bincount(y.astype(int))\n",
    "    ps = hist / len(y)\n",
    "    summ = 0\n",
    "    for p in ps:\n",
    "        if p > 0:\n",
    "            summ += (2*p)*(1-p)\n",
    "    return summ\n",
    "\n",
    "def giniSqrt(y):\n",
    "    hist = np.bincount(y.astype(int))\n",
    "    ps = hist / len(y)\n",
    "    summ = 0\n",
    "    for p in ps:\n",
    "        if p > 0:\n",
    "            summ += (2*p)*(1-p)\n",
    "    return (np.sqrt(summ))\n",
    "\n",
    "def entropy(y):\n",
    "    cnt = {}\n",
    "    for yi in y:\n",
    "        if yi in cnt:\n",
    "            cnt[yi] += 1\n",
    "        else:\n",
    "            cnt[yi] = 1\n",
    "\n",
    "    unique_labels = sorted(cnt.keys())\n",
    "\n",
    "    hist = []\n",
    "    for label in unique_labels:\n",
    "        if label in cnt:\n",
    "            hist.append(cnt[label])\n",
    "        else: hist.append(0)\n",
    "\n",
    "    hist = np.array(hist)\n",
    "        \n",
    "    ps = hist / len(y)\n",
    "    return -np.sum([p * np.log(p) for p in ps if p>0])\n",
    "\n",
    "def most_common_label(y):\n",
    "    counter = {}\n",
    "    for label in y:\n",
    "        if label in counter:\n",
    "            counter[label] += 1\n",
    "        else:\n",
    "            counter[label] = 1\n",
    "\n",
    "    mx = float('-inf')\n",
    "    ky = 0\n",
    "    for key, val in counter.items():\n",
    "        if val > mx:\n",
    "            mx = val\n",
    "            ky = key\n",
    "\n",
    "    return ky\n"
   ]
  },
  {
   "cell_type": "markdown",
   "metadata": {},
   "source": [
    "### 2) Growth stopping conditions (or stopping criterias)\n",
    "\n",
    "The \"grow_tree\" function needs some way of stop growing, otherwise it will grow indefinitely. We will adress this issue here.\n",
    "\n",
    "The trees stopping criterias needs to handle the following:\n",
    "\n",
    "1) When a node has only datapoints of a single class.\n",
    "\n",
    "2) Prevent the tree from growing to large, i.e., a max depth.\n",
    "\n",
    "3) Prevent the tree nodes from becoming to small.\n",
    "\n",
    "4) Prevent the tree from growing when the node is large (has a lot of datapoints) but it is very unbalanced. This is an extention to case 1.\n",
    "\n",
    "Can you think of some other stopping criterias that is good to have? "
   ]
  },
  {
   "cell_type": "code",
   "execution_count": 183,
   "metadata": {},
   "outputs": [],
   "source": [
    "# TODO: Change the name of the functions and implement them as you see fit.\n",
    "\n",
    "def stop1():\n",
    "    pass \n",
    "\n",
    "def stop2():\n",
    "    pass \n",
    "\n",
    "#... # Add more stopping criterias if needed. Don't forget to use them when growing the tree!"
   ]
  },
  {
   "cell_type": "markdown",
   "metadata": {},
   "source": [
    "### 3) Best feature for splitting nodes\n",
    "\n",
    "When we are growing the tree, we need to decide how we are going to split a node into two new nodes. This is achived by looking at the features of the data in the node and calculate the best feature to split on.\n",
    "\n",
    "Here you have a choice:\n",
    "\n",
    "* Split using **Information Entropy**\n",
    "* Split using **Gini Impurity**\n",
    "\n",
    "Finish the function below using Information Entropy or Gini Impurity.\n",
    "\n",
    "**Note:** Your code should be able to handle both real and categorical features!"
   ]
  },
  {
   "cell_type": "code",
   "execution_count": 184,
   "metadata": {},
   "outputs": [],
   "source": [
    "# TODO: Change the name to which ever you chose.\n",
    "# def func_name(...):\n",
    "\n",
    "#     # TODO: Implement the rest of this function.\n",
    "#     # NOTE: Do not forget to have support for real and categorical features.\n",
    "\n",
    "#     return ..."
   ]
  },
  {
   "cell_type": "markdown",
   "metadata": {},
   "source": [
    "### 4) Split data\n",
    "\n",
    "When growing the tree, we need to split the data multiple times, and what we decide to split varies a lot. It is similar to splitting data into train and test sets (remember from assignment 1), but we split the data based on the best feature for growing a good tree.\n",
    "\n",
    "**IMPORTANT NOTE:** To calculate binary splits for real-valued features, the following rule must be applied: an instance with a feature value lower than the mean feature value follows the left edge from the split node while all other instances follow the right edge from the split node."
   ]
  },
  {
   "cell_type": "code",
   "execution_count": 185,
   "metadata": {},
   "outputs": [],
   "source": [
    "# def split_data(data, ...):\n",
    "\n",
    "#     # TODO: Implement the rest of this function.\n",
    "\n",
    "#     return ...\n"
   ]
  },
  {
   "cell_type": "markdown",
   "metadata": {},
   "source": [
    "### 5) Predict with tree model\n",
    "\n",
    "Finally, when we have grown our tree, we would like to use it for prediction. When using the tree for prediction, we traverse the tree for each datapoint untill we land in a leaf node."
   ]
  },
  {
   "cell_type": "code",
   "execution_count": 186,
   "metadata": {},
   "outputs": [],
   "source": [
    "def traverse_tree(x, node):\n",
    "    if node.value is not None:\n",
    "        return node.value\n",
    "    \n",
    "    if x[node.feature] <= node.threshold:\n",
    "        return traverse_tree(x, node.left)\n",
    "    return traverse_tree(x, node.right)"
   ]
  },
  {
   "cell_type": "markdown",
   "metadata": {},
   "source": [
    "## Test decision tree model, compare with scikit learn, and plot dataset results\n",
    "\n",
    "In the last part of the lab, you are going to test your tree code and compare it to scikit learn. The goal is not to be better than an established library, but to give you an indication about if you are on the right track.\n",
    "\n",
    "You will need to plot the results from your model and the scikit learn model using matplotlib. We suggest a simple but informative bar-charts.\n",
    "\n",
    "To make the comparison fair, you should train and test both your decision tree algorithm and the scikit learn at least 5 times, and shuffle the data each time before splitting the data into a train and test set.\n",
    "\n",
    "The datasets are:\n",
    "\n",
    "* Wine - (https://archive.ics.uci.edu/dataset/109/wine)\n",
    "* Heart disease - (https://archive.ics.uci.edu/dataset/45/heart+disease)\n",
    "* Car - (https://archive.ics.uci.edu/dataset/19/car+evaluation)\n",
    "\n",
    "**IMPORTANT NOTE 1:** Take note of the feature types in the datasets, some features are numerical in value but are in fact categorical features. Be sure to handle these features correctly!\n",
    "\n",
    "**IMPORTANT NOTE 2:** In this assignment it helps to add an additional header with information about the features and if they are nominal (n) or real (r) features."
   ]
  },
  {
   "cell_type": "code",
   "execution_count": 187,
   "metadata": {},
   "outputs": [],
   "source": [
    "import matplotlib.pyplot as plt\n",
    "\n",
    "from sklearn.model_selection import train_test_split\n",
    "from sklearn.metrics import accuracy_score\n",
    "from sklearn.tree import DecisionTreeClassifier"
   ]
  },
  {
   "cell_type": "markdown",
   "metadata": {},
   "source": [
    "You may use the \"**accuracy_score**\" function from scikit learn (imported above) to compare the performance of your own and scikit learns models.\n",
    "\n",
    "See below for an example use."
   ]
  },
  {
   "cell_type": "code",
   "execution_count": 188,
   "metadata": {},
   "outputs": [],
   "source": [
    "y_true = [1,1,1,1,1] # Pretend labels\n",
    "y_pred = [1,1,2,2,1] # Pretend prediction\n",
    "\n",
    "#accuracy_score(y_true, y_pred)"
   ]
  },
  {
   "cell_type": "markdown",
   "metadata": {},
   "source": [
    "### 6) Dataset 1: Wine"
   ]
  },
  {
   "cell_type": "code",
   "execution_count": 189,
   "metadata": {},
   "outputs": [
    {
     "name": "stdout",
     "output_type": "stream",
     "text": [
      "[0.8888888888888888, 0.9166666666666666, 0.9722222222222222, 0.9444444444444444, 0.9444444444444444]\n",
      "[0.9444444444444444, 0.9444444444444444, 0.9444444444444444, 0.9722222222222222, 0.9444444444444444]\n"
     ]
    },
    {
     "data": {
      "image/png": "[encoded data removed]",
      "text/plain": [
       "<Figure size 700x500 with 1 Axes>"
      ]
     },
     "metadata": {},
     "output_type": "display_data"
    }
   ],
   "source": [
    "data_wine = pd.read_csv(\"wine.csv\").to_numpy()\n",
    "data_wine = data_wine[1:]\n",
    "\n",
    "\n",
    "# TODO: Set up the data and split it into train and test-sets.\n",
    "X = data_wine[:, :-1]\n",
    "y = data_wine[:, -1]\n",
    "X_train, X_test, y_train, y_test = train_test_split(X, y, test_size=0.2)\n",
    "\n",
    "\n",
    "# TODO: Train and test your implemented tree model.\n",
    "# NOTE: Use the same train/test split for your tree model and the scikit learn model\n",
    "number_of_features = X.shape[1]\n",
    "root = grow_tree(X_train, y_train, number_of_features, max_depth=10, min_samples_for_split=2)\n",
    "my_predictions = np.array([traverse_tree(x, root) for x in X_test])\n",
    "\n",
    "\n",
    "# TODO: Train and test scikit learns tree model.\n",
    "# NOTE: Use the same train/test split for your tree model and the scikit learn model\n",
    "scikit_clf = DecisionTreeClassifier(criterion='entropy')\n",
    "scikit_clf.fit(X_train, y_train)\n",
    "scikit_predictions = scikit_clf.predict(X_test)\n",
    "\n",
    "\n",
    "# TODO: Do the above at least 5 times\n",
    "# NOTE: Use loops here!\n",
    "my_accuracies = []\n",
    "sciKit_accuracies = []\n",
    "for _ in range(5):\n",
    "    X_train, X_test, y_train, y_test = train_test_split(X, y, test_size=0.2, shuffle=True)\n",
    "\n",
    "    number_of_features = X.shape[1]\n",
    "    root = grow_tree(X_train, y_train, number_of_features, max_depth=10, min_samples_for_split=2)\n",
    "    my_predictions = np.array([traverse_tree(x, root) for x in X_test])\n",
    "    my_accuracy = accuracy_score(y_test, my_predictions)\n",
    "    my_accuracies.append(my_accuracy)\n",
    "\n",
    "    scikit_clf = DecisionTreeClassifier(criterion='entropy')\n",
    "    scikit_clf.fit(X_train, y_train)\n",
    "    scikit_predictions = scikit_clf.predict(X_test)\n",
    "    sciKit_accuracy = accuracy_score(y_test, scikit_predictions)\n",
    "    sciKit_accuracies.append(sciKit_accuracy)\n",
    "\n",
    "# TODO: Plot the results with matplotlib (plt)\n",
    "# NOTE: One plot with all results is enough\n",
    "boxplotData = [my_accuracies, sciKit_accuracies]\n",
    "print(my_accuracies)\n",
    "print(sciKit_accuracies)\n",
    "\n",
    "fig = plt.figure(figsize =(7, 5))\n",
    "ax = fig.add_axes([0, 0, 1, 1])\n",
    "labels = ['My Decision Tree', 'Scikit Learn Decision Tree']\n",
    "bp = ax.boxplot(boxplotData, labels=labels)\n",
    "plt.show()\n"
   ]
  },
  {
   "cell_type": "markdown",
   "metadata": {},
   "source": [
    "### 7) Dataset 2: Heart Disease"
   ]
  },
  {
   "cell_type": "code",
   "execution_count": 190,
   "metadata": {},
   "outputs": [
    {
     "data": {
      "image/png": "[encoded data removed]",
      "text/plain": [
       "<Figure size 700x500 with 1 Axes>"
      ]
     },
     "metadata": {},
     "output_type": "display_data"
    }
   ],
   "source": [
    "data_heart = pd.read_csv(\"heart.csv\").to_numpy()\n",
    "\n",
    "# TODO: Set up the data and split it into train and test-sets.\n",
    "X = data_heart[:, :-1]\n",
    "y = data_heart[:, -1]\n",
    "X_train, X_test, y_train, y_test = train_test_split(X, y, test_size=0.2)\n",
    "\n",
    "# TODO: Train and test your implemented tree model.\n",
    "# NOTE: Use the same train/test split for your tree model and the scikit learn model\n",
    "number_of_features = X.shape[1]\n",
    "root = grow_tree(X_train, y_train, number_of_features, max_depth=10, min_samples_for_split=2)\n",
    "my_predictions = np.array([traverse_tree(x, root) for x in X_test])\n",
    "\n",
    "\n",
    "# TODO: Train and test scikit learns tree model.\n",
    "# NOTE: Use the same train/test split for your tree model and the scikit learn model\n",
    "scikit_clf = DecisionTreeClassifier(criterion='entropy')\n",
    "scikit_clf.fit(X_train, y_train)\n",
    "scikit_predictions = scikit_clf.predict(X_test)\n",
    "\n",
    "# TODO: Do the above at least 5 times\n",
    "# NOTE: Use loops here!\n",
    "\n",
    "my_accuracies = []\n",
    "sciKit_accuracies = []\n",
    "for _ in range(5):\n",
    "    X_train, X_test, y_train, y_test = train_test_split(X, y, test_size=0.2, shuffle=True)\n",
    "\n",
    "    number_of_features = X.shape[1]\n",
    "    root = grow_tree(X_train, y_train, number_of_features, max_depth=10, min_samples_for_split=2)\n",
    "    my_predictions = np.array([traverse_tree(x, root) for x in X_test])\n",
    "    my_accuracy = accuracy_score(y_test, my_predictions)\n",
    "    my_accuracies.append(my_accuracy)\n",
    "\n",
    "    scikit_clf = DecisionTreeClassifier(criterion='entropy')\n",
    "    scikit_clf.fit(X_train, y_train)\n",
    "    scikit_predictions = scikit_clf.predict(X_test)\n",
    "    sciKit_accuracy = accuracy_score(y_test, scikit_predictions)\n",
    "    sciKit_accuracies.append(sciKit_accuracy)\n",
    "\n",
    "# TODO: Plot the results with matplotlib (plt)\n",
    "# NOTE: One plot with all results is enough\n",
    "boxplotData = [my_accuracies, sciKit_accuracies]\n",
    "fig = plt.figure(figsize =(7, 5))\n",
    "ax = fig.add_axes([0, 0, 1, 1])\n",
    "labels = ['My Decision Tree', 'Scikit Learn Decision Tree']\n",
    "bp = ax.boxplot(boxplotData, labels=labels)\n",
    "plt.show()\n"
   ]
  },
  {
   "cell_type": "markdown",
   "metadata": {},
   "source": [
    "### 8) Dataset 3: Car"
   ]
  },
  {
   "cell_type": "code",
   "execution_count": 191,
   "metadata": {},
   "outputs": [
    {
     "data": {
      "image/png": "[encoded data removed]",
      "text/plain": [
       "<Figure size 1000x700 with 2 Axes>"
      ]
     },
     "metadata": {},
     "output_type": "display_data"
    },
    {
     "data": {
      "image/png": "[encoded data removed]",
      "text/plain": [
       "<Figure size 700x500 with 1 Axes>"
      ]
     },
     "metadata": {},
     "output_type": "display_data"
    }
   ],
   "source": [
    "from sklearn.preprocessing import OneHotEncoder\n",
    "from sklearn.metrics import accuracy_score, confusion_matrix\n",
    "import seaborn as sns\n",
    "\n",
    "data_car = pd.read_csv(\"car.csv\").to_numpy()\n",
    "\n",
    "\n",
    "# TODO: Set up the data and split it into train and test-sets.\n",
    "X = data_car[:, :-1]\n",
    "y = data_car[:, -1]\n",
    "X_train, X_test, y_train, y_test = train_test_split(X, y, test_size=0.2, shuffle=True)\n",
    "\n",
    "\n",
    "# TODO: Train and test your implemented tree model.\n",
    "# NOTE: Use the same train/test split for your tree model and the scikit learn model\n",
    "number_of_features = X.shape[1]\n",
    "root = grow_tree(X_train, y_train, number_of_features, max_depth=10, min_samples_for_split=2)\n",
    "my_predictions = np.array([traverse_tree(x, root) for x in X_test])\n",
    "\n",
    "conf_matrix = confusion_matrix(y_test, my_predictions)\n",
    "plt.figure(figsize=(10, 7))\n",
    "sns.heatmap(conf_matrix, annot=True, fmt='d', cmap='Blues')\n",
    "plt.xlabel('Predicted')\n",
    "plt.ylabel('Actual')\n",
    "plt.title('Confusion Matrix')\n",
    "plt.show()\n",
    "\n",
    "# TODO: Train and test scikit learns tree model.\n",
    "# NOTE: Use the same train/test split for your tree model and the scikit learn model\n",
    "encoder = OneHotEncoder(handle_unknown='ignore', sparse_output=False)\n",
    "X_train_ohe = encoder.fit_transform(X_train)\n",
    "X_test_ohe = encoder.transform(X_test)\n",
    "scikit_clf = DecisionTreeClassifier(criterion='entropy')\n",
    "scikit_clf.fit(X_train_ohe, y_train)\n",
    "scikit_predictions = scikit_clf.predict(X_test_ohe)\n",
    "\n",
    "\n",
    "# TODO: Do the above at least 5 times\n",
    "# NOTE: Use loops here!\n",
    "for _ in range(5):\n",
    "    X_train, X_test, y_train, y_test = train_test_split(X, y, test_size=0.2, random_state=42, shuffle=True)\n",
    "\n",
    "    number_of_features = X.shape[1]\n",
    "    root = grow_tree(X_train, y_train, number_of_features, max_depth=10, min_samples_for_split=2)\n",
    "    my_predictions = np.array([traverse_tree(x, root) for x in X_test])\n",
    "    my_accuracy = accuracy_score(y_test, my_predictions)\n",
    "    my_accuracies.append(my_accuracy)\n",
    "\n",
    "    encoder = OneHotEncoder(handle_unknown='ignore', sparse_output=False)\n",
    "    X_train_ohe = encoder.fit_transform(X_train)\n",
    "    X_test_ohe = encoder.transform(X_test)\n",
    "\n",
    "    scikit_clf = DecisionTreeClassifier(criterion='entropy')\n",
    "    scikit_clf.fit(X_train_ohe, y_train)\n",
    "    scikit_predictions = scikit_clf.predict(X_test_ohe)\n",
    "    sciKit_accuracy = accuracy_score(y_test, scikit_predictions)\n",
    "    sciKit_accuracies.append(sciKit_accuracy)\n",
    "\n",
    "\n",
    "# TODO: Plot the results with matplotlib (plt)\n",
    "# NOTE: One plot with all results is enough\n",
    "boxplotData = [my_accuracies, sciKit_accuracies]\n",
    "fig = plt.figure(figsize =(7, 5))\n",
    "ax = fig.add_axes([0, 0, 1, 1])\n",
    "labels = ['My Decision Tree', 'Scikit Learn Decision Tree']\n",
    "bp = ax.boxplot(boxplotData, labels=labels)\n",
    "plt.show()\n",
    "\n"
   ]
  },
  {
   "cell_type": "markdown",
   "metadata": {},
   "source": [
    "### 9) Training with normalized data on the wine-dataset\n",
    "\n",
    "So far, we have trained our decision trees with \"raw\" data, i.e., we haven't done much preprocessing on the data.\n",
    "\n",
    "Here we will do minor preprocessing on the data with the help of the scikit-learn library: https://scikit-learn.org/stable/modules/preprocessing.html"
   ]
  },
  {
   "cell_type": "code",
   "execution_count": 211,
   "metadata": {},
   "outputs": [
    {
     "name": "stdout",
     "output_type": "stream",
     "text": [
      "Best accuracy so far: 0.4166666666666667, max_number_of_features: 12, max_depth: 0, min_samples_for_split: 0\n",
      "Best accuracy so far: 0.5833333333333334, max_number_of_features: 12, max_depth: 1, min_samples_for_split: 0\n",
      "Best accuracy so far: 0.8333333333333334, max_number_of_features: 12, max_depth: 2, min_samples_for_split: 0\n",
      "Best accuracy so far: 0.9166666666666666, max_number_of_features: 12, max_depth: 2, min_samples_for_split: 1\n",
      "Best accuracy so far: 0.9722222222222222, max_number_of_features: 12, max_depth: 3, min_samples_for_split: 0\n",
      "dict_keys([0.4166666666666667, 0.5833333333333334, 0.4722222222222222, 0.8333333333333334, 0.9166666666666666, 0.9722222222222222, 0.8888888888888888, 0.8611111111111112, 0.9444444444444444, 0.75, 0.5555555555555556, 0.8055555555555556, 0.7222222222222222, 0.5, 0.6944444444444444, 0.7777777777777778, 0.5277777777777778, 0.6666666666666666, 0.6388888888888888, 0.3611111111111111, 0.4444444444444444, 0.3055555555555556])\n",
      "Best accuracy: 0.9722222222222222\n",
      "Parameters for best accuracy: max_number_of_features: 6, max_depth: 3, min_samples_for_split: 5\n"
     ]
    },
    {
     "data": {
      "image/png": "[encoded data removed]",
      "text/plain": [
       "<Figure size 700x500 with 1 Axes>"
      ]
     },
     "metadata": {},
     "output_type": "display_data"
    }
   ],
   "source": [
    "from sklearn import preprocessing\n",
    "\n",
    "# TODO: Use the wine dataset from above and scale its features and labels between 0 and 1\n",
    "\n",
    "data_wine = pd.read_csv(\"wine.csv\").to_numpy()\n",
    "data_wine = data_wine[1:]\n",
    "\n",
    "X = data_wine[:, :-1]\n",
    "y = data_wine[:, -1]\n",
    "X_train, X_test, y_train, y_test = train_test_split(X, y, test_size=0.2, shuffle=True)\n",
    "\n",
    "min_max_scaler = preprocessing.MinMaxScaler()\n",
    "X_train_minmax = min_max_scaler.fit_transform(X_train)\n",
    "X_test_minmax = min_max_scaler.transform(X_test)\n",
    "\n",
    "# TODO: Run the code from the dataset and compare the preprocessed vs non-preprocessed data.\n",
    "# NOTE: You can copy most of the workflow from the dataset code above to save you some time.\n",
    "# NOTE: Use the same train/test split for your tree model for both the preprocessed vs non-preprocessed data.\n",
    "# number_of_features = X.shape[1]\n",
    "# root = grow_tree(X_train, y_train, number_of_features, max_depth=10, min_samples_for_split=2)\n",
    "# my_predictions = np.array([traverse_tree(x, root) for x in X_test])\n",
    "# my_accuracy = accuracy_score(y_test, my_predictions)\n",
    "# print(my_accuracy)\n",
    "\n",
    "# number_of_features = X.shape[1]\n",
    "# root = grow_tree(X_train_minmax, y_train, number_of_features, max_depth=10, min_samples_for_split=2)\n",
    "# my_predictions = np.array([traverse_tree(x, root) for x in X_test_minmax])\n",
    "# my_accuracy = accuracy_score(y_test, my_predictions)\n",
    "# print(my_accuracy)\n",
    "\n",
    "X = data_wine[:, :-1]\n",
    "y = data_wine[:, -1]\n",
    "\n",
    "def parameter_optimization(max_number_of_features=None, max_depth=None, max_samples_for_split=None):\n",
    "    X_train, X_test, y_train, y_test = train_test_split(X, y, test_size=0.2, shuffle=True)\n",
    "    max_accuracy = {}\n",
    "    best_so_far = 0\n",
    "    iteration = 0\n",
    "\n",
    "    for i in reversed(range(1, max_number_of_features)):\n",
    "        for j in range(max_depth):\n",
    "            for k in range(max_samples_for_split):\n",
    "                #print(f\"Iteration {iteration};;;; max_number_of_features: {i}, max_depth: {j}, min_samples_for_split: {k}\")\n",
    "                iteration += 1\n",
    "                root = grow_tree(X_train, y_train, i, j, k)\n",
    "                my_predictions = np.array([traverse_tree(x, root) for x in X_test])\n",
    "                my_accuracy = accuracy_score(y_test, my_predictions)\n",
    "                if my_accuracy > best_so_far:\n",
    "                    best_so_far = my_accuracy\n",
    "                    print(f\"Best accuracy so far: {best_so_far}, max_number_of_features: {i}, max_depth: {j}, min_samples_for_split: {k}\")\n",
    "                max_accuracy[my_accuracy] = [i, j, k]\n",
    "    \n",
    "    best = max(max_accuracy.keys())\n",
    "    print(f\"Best accuracy: {best}\")\n",
    "    print(f\"Parameters for best accuracy: max_number_of_features: {max_accuracy[best][0]}, max_depth: {max_accuracy[best][1]}, min_samples_for_split: {max_accuracy[best][2]}\")\n",
    "\n",
    "mx_number_of_features = X.shape[1]\n",
    "parameter_optimization(mx_number_of_features, 5, 7)\n",
    "\n",
    "\n",
    "# TODO: Do the above at least 5 times\n",
    "# NOTE: Use loops here!\n",
    "my_accuracies = []\n",
    "my_accuracies_scaled = []\n",
    "for _ in range(15):\n",
    "    X_train, X_test, y_train, y_test = train_test_split(X, y, test_size=0.2, shuffle=True)\n",
    "    min_max_scaler = preprocessing.MinMaxScaler()\n",
    "    X_train_minmax = min_max_scaler.fit_transform(X_train)\n",
    "    X_test_minmax = min_max_scaler.transform(X_test)\n",
    "\n",
    "    number_of_features = X.shape[1]\n",
    "    root = grow_tree(X_train, y_train, number_of_features, max_depth=10, min_samples_for_split=2)\n",
    "    my_predictions = np.array([traverse_tree(x, root) for x in X_test])\n",
    "    my_accuracy = accuracy_score(y_test, my_predictions)\n",
    "    my_accuracies.append(my_accuracy)\n",
    "\n",
    "    number_of_features = X.shape[1]\n",
    "    root = grow_tree(X_train_minmax, y_train, number_of_features, max_depth=10, min_samples_for_split=2)\n",
    "    my_predictions_scaled = np.array([traverse_tree(x, root) for x in X_test_minmax])\n",
    "    my_accuracy_scaled = accuracy_score(y_test, my_predictions_scaled)\n",
    "    my_accuracies_scaled.append(my_accuracy_scaled)\n",
    "\n",
    "# TODO: Plot the results with matplotlib (plt)\n",
    "# NOTE: One plot with all results is enough\n",
    "boxplotData = [my_accuracies, my_accuracies_scaled]\n",
    "fig = plt.figure(figsize =(7, 5))\n",
    "ax = fig.add_axes([0, 0, 1, 1])\n",
    "labels = ['My Decision Tree', 'My Decision Tree w/ Scaled Values']\n",
    "bp = ax.boxplot(boxplotData, labels=labels)\n",
    "plt.show()\n"
   ]
  },
  {
   "cell_type": "markdown",
   "metadata": {},
   "source": [
    "# Questions for examination:\n",
    "\n",
    "In addition to completing the assignment with all its tasks, you should also prepare to answer the following questions:\n",
    "\n",
    "1) Why is growing the tree indefinitely such a bad idea? The performance would increase would it not?\n",
    "\n",
    "2) Beside preventing the tree from growing to large, what is the purpose of 'stopping criterias'?\n",
    "\n",
    "3) What is the difference between **Information Entropy** and **Gini Impurity**?\n",
    "\n",
    "4) What are some pros about using decision trees?\n",
    "\n",
    "5) Did preprocessing the data help with performance when using decision trees?"
   ]
  },
  {
   "cell_type": "markdown",
   "metadata": {},
   "source": [
    "1. You could overfit the data by doing this. \n",
    "2. They could prevent overfitting, but also help with the performance in terms of execution speed. \n",
    "3.  \n",
    "* Gini: Gini är den förväntade error raten om man sätter en label på ett slumpmässigt löv. \n",
    "* Entropi: Entropi är ett mått på oordningen och osäkerheten i klassfördelningen. Entropi är bra att använda om datan är balanserad. Gini är dock lite snabbare att beräkna och ger ofta liknande resultat som Entropi.\n",
    "* Det finns också \"Roten ur Gini\" där man tar roten ur Gini, och den ligger mittemellan Gini och Entropi i känslighet. \n",
    "\n",
    "Om du bara vill ha snabb och robust impurity-mätning → Använd Gini.\n",
    "Om du vill väga osäkerhet extra noggrant → Använd Entropi.\n",
    "Om du vill ha ett mellanting som är känsligare än Gini men snabbare än Entropi → Testa √Gini!\n",
    "\n",
    "4. * Simple to understand and to interpret. Trees can be visualized. \n",
    "   * The cost of using the tree (i.e., predicting data) is logarithmic in the number of data points used to train the tree. \n",
    "5.  "
   ]
  },
  {
   "cell_type": "markdown",
   "metadata": {},
   "source": [
    "# Finished!\n",
    "\n",
    "Was part of the setup incorrect? Did you spot any inconsistencies in the assignment? Could something improve?\n",
    "\n",
    "If so, please write them and send via email and send it to:\n",
    "\n",
    "* marcus.gullstrand@ju.se\n",
    "\n",
    "Thank you!"
   ]
  }
 ],
 "metadata": {
  "kernelspec": {
   "display_name": "Python 3",
   "language": "python",
   "name": "python3"
  },
  "language_info": {
   "codemirror_mode": {
    "name": "ipython",
    "version": 3
   },
   "file_extension": ".py",
   "mimetype": "text/x-python",
   "name": "python",
   "nbconvert_exporter": "python",
   "pygments_lexer": "ipython3",
   "version": "3.12.1"
  }
 },
 "nbformat": 4,
 "nbformat_minor": 2
}
